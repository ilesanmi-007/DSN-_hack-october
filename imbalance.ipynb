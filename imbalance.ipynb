{
 "cells": [
  {
   "cell_type": "code",
   "execution_count": 2,
   "id": "6095ad0c",
   "metadata": {},
   "outputs": [],
   "source": [
    "import pandas as pd\n",
    "import numpy as np\n",
    "import seaborn as sns\n",
    "import matplotlib.pyplot as plt\n",
    "\n",
    "te = r'C:\\Users\\ilesanmi\\Desktop\\Test.csv'\n",
    "tr = r'C:\\Users\\ilesanmi\\Desktop\\Train.csv'\n",
    "ss = r'C:\\Users\\ilesanmi\\Desktop\\SampleSubmission.csv'\n",
    "\n",
    "\n",
    "train = pd.read_csv(tr)\n",
    "test = pd.read_csv(te)\n",
    "submissionfile = pd.read_csv(ss)"
   ]
  },
  {
   "cell_type": "code",
   "execution_count": 3,
   "id": "94b7fcd3",
   "metadata": {},
   "outputs": [],
   "source": [
    "train['Disposable_Income'].fillna(train['Disposable_Income'].mean(), inplace = True)\n",
    "test['Disposable_Income'].fillna(test['Disposable_Income'].mean(), inplace = True)\n"
   ]
  },
  {
   "cell_type": "code",
   "execution_count": 4,
   "id": "b1c916e8",
   "metadata": {},
   "outputs": [],
   "source": [
    "target = train['Response']\n",
    "features = train.drop(columns = 'Response')\n",
    "features2 = test"
   ]
  },
  {
   "cell_type": "code",
   "execution_count": 31,
   "id": "c9c6d20b",
   "metadata": {},
   "outputs": [
    {
     "data": {
      "text/plain": [
       "(1568, 27)"
      ]
     },
     "execution_count": 31,
     "metadata": {},
     "output_type": "execute_result"
    }
   ],
   "source": [
    "train.shape"
   ]
  },
  {
   "cell_type": "code",
   "execution_count": null,
   "id": "7e0b4794",
   "metadata": {},
   "outputs": [],
   "source": []
  },
  {
   "cell_type": "code",
   "execution_count": 5,
   "id": "b6b7ae48",
   "metadata": {},
   "outputs": [],
   "source": [
    "from sklearn.preprocessing import LabelEncoder\n",
    "enc = LabelEncoder()"
   ]
  },
  {
   "cell_type": "code",
   "execution_count": 6,
   "id": "3baefc61",
   "metadata": {},
   "outputs": [],
   "source": [
    "features_encoded = features.apply(enc.fit_transform)\n",
    "features2_encoded = features2.apply(enc.fit_transform)\n",
    "#target_encoded = enc.fit_transform(target)"
   ]
  },
  {
   "cell_type": "code",
   "execution_count": 7,
   "id": "cbdb09cf",
   "metadata": {},
   "outputs": [],
   "source": [
    "from sklearn.model_selection import train_test_split\n",
    "\n",
    "x_tr, x_te, y_tr, y_te = train_test_split(features_encoded, target, random_state = 0)\n"
   ]
  },
  {
   "cell_type": "code",
   "execution_count": 8,
   "id": "93583e51",
   "metadata": {},
   "outputs": [],
   "source": [
    "from sklearn.linear_model import LogisticRegression\n",
    "\n",
    "#log = LogisticRegression()\n"
   ]
  },
  {
   "cell_type": "code",
   "execution_count": null,
   "id": "9609778c",
   "metadata": {},
   "outputs": [],
   "source": []
  },
  {
   "cell_type": "code",
   "execution_count": 225,
   "id": "0102f4be",
   "metadata": {},
   "outputs": [],
   "source": [
    "def Log_reg_accu_display(x_tr, x_test, y_tr, y_test):\n",
    "    C_values = [0.001, 0.01, 0.05, 0.1, 0.5, 0.8, 1]\n",
    "    train_acc = []\n",
    "    test_acc = []\n",
    "    f1_val = []\n",
    "    \n",
    "    \n",
    "    for c in C_values:\n",
    "        \n",
    "        log_reg1 = LogisticRegression(C = c)\n",
    "        log_reg1.fit(x_tr, y_tr)\n",
    "        pred = log_reg1.predict(x_tr)\n",
    "        print('f1 score of my sample', f1_score(y_tr, pred))\n",
    "        pred2 = log_reg1.predict(x_te)\n",
    "        print(' f1 score of my predi',f1_score(y_te, pred2))\n",
    "        log_reg1.fit(x_tr, y_tr)\n",
    "        train_acc.append(log_reg1.score(x_tr, y_tr))\n",
    "        test_acc.append(log_reg1.score(x_test, y_test))\n",
    "        f1_val.append(pred2)\n",
    "\n",
    "    #plt.plot(C_values, f1_val)\n",
    "    #train_acc, test_acc, C_values = Log_reg_Manip(x_tr, x_test, y_tr, y_test)\n",
    "#     plt.plot(C_values, train_acc, label = \"Train Accuracy\")\n",
    "#     plt.plot(C_values, test_acc, label = \"Test Accuracy\")\n",
    "#     plt.xlabel('C values')\n",
    "#     plt.ylabel('Accuracies')\n",
    "#     plt.legend(loc = 'best')\n",
    "    #plt.show()"
   ]
  },
  {
   "cell_type": "code",
   "execution_count": 40,
   "id": "c5c60ebd",
   "metadata": {},
   "outputs": [],
   "source": [
    "def Log_reg_Manip_display(x_tr, x_test, y_tr, y_test):\n",
    "    C_values = [0.001, 0.01, 0.05, 0.1, 0.5, 0.8, 1]\n",
    "    train_acc = []\n",
    "    test_acc = []\n",
    "\n",
    "    for c in C_values:\n",
    "        log_reg1 = LogisticRegression(C = c)\n",
    "        log_reg1.fit(x_tr, y_tr)\n",
    "        train_acc.append(log_reg1.score(x_tr, y_tr))\n",
    "        test_acc.append(log_reg1.score(x_test, y_test))\n",
    "\n",
    "    \n",
    "    #train_acc, test_acc, C_values = Log_reg_Manip(x_tr, x_test, y_tr, y_test)\n",
    "    plt.plot(C_values, train_acc, label = \"Train Accuracy\")\n",
    "    plt.plot(C_values, test_acc, label = \"Test Accuracy\")\n",
    "    plt.xlabel('C values')\n",
    "    plt.ylabel('Accuracies')\n",
    "    plt.legend(loc = 'best')\n",
    "    plt.show()\n",
    "    \n",
    "\n",
    "    \n",
    "def logistic_regression_model( x_tr, x_te, y_tr, y_te, x_te_te, C = 1.0):\n",
    "    log_reg = LogisticRegression(C = C)\n",
    "    log_reg.fit(x_tr, y_tr)\n",
    "    print('training accuracy: ', log_reg.score(x_tr, y_tr))\n",
    "    print('testing accuracy: ', log_reg.score(x_te, y_te))\n",
    "    \n",
    "    pred = log_reg.predict(x_tr)\n",
    "    print('f1 score of my sample', f1_score(y_tr, pred))\n",
    "    pred2 = log_reg.predict(x_te)\n",
    "    print(' f1 score of my predi',f1_score(y_te, pred2))\n",
    "    \n",
    "    #the koko\n",
    "    submission_new = submissionfile\n",
    "    submission_new.Response = log_reg.predict(x_te_te)\n",
    "    sns.countplot(submission_new.Response)\n",
    "    \n",
    "    submission_new.head()\n",
    "    response = input('wanna save as a doc? ')\n",
    "    if response == 'y' or response == 'yes':\n",
    "        doc_name = input('enter doc name: ')\n",
    "        submission_new.to_csv(doc_name, index = False)\n",
    "        print('/n saved')\n",
    "    elif response == 'n' or response == 'no':\n",
    "        print('Thank you')\n",
    "    \n",
    "from sklearn.metrics import confusion_matrix, classification_report\n",
    "\n",
    "def cls_rprt_and_conf_matrix(x_tr, x_te, y_tr, y_te, C = 1):\n",
    "    #log_reg = logistic_regression_model( x_tr, x_te, y_tr, y_te, C = 1.0)\n",
    "    \n",
    "    #having issue... \n",
    "    \n",
    "    log_reg = LogisticRegression(C = C)\n",
    "    log_reg.fit(x_tr, y_tr)\n",
    "    #print('training accuracy: ', log_reg.score(x_tr, y_tr))\n",
    "    #print('testing accuracy: ', log_reg.score(x_te, y_te))\n",
    "    \n",
    "    y_pred = log_reg.predict(x_te)\n",
    "    #make predictions\n",
    "    conf =confusion_matrix(y_te, y_pred)\n",
    "    cls_report = classification_report(y_te, y_pred)\n",
    "    print('confusion matrix: \\n\\n', conf, '\\n\\n')\n",
    "    print('classification report: \\n', cls_report)"
   ]
  },
  {
   "cell_type": "code",
   "execution_count": 41,
   "id": "9c6c6bfb",
   "metadata": {},
   "outputs": [],
   "source": [
    "from sklearn.metrics import f1_score"
   ]
  },
  {
   "cell_type": "code",
   "execution_count": null,
   "id": "7ebc09f3",
   "metadata": {},
   "outputs": [],
   "source": []
  },
  {
   "cell_type": "code",
   "execution_count": 42,
   "id": "2424ecb2",
   "metadata": {},
   "outputs": [],
   "source": [
    "from imblearn.over_sampling import SMOTE\n",
    "from sklearn.preprocessing import MinMaxScaler\n",
    "\n",
    "imbal = train\n",
    "from sklearn.preprocessing import LabelEncoder\n",
    "enc = LabelEncoder()\n",
    "\n",
    "imbal_enc = imbal.apply(enc.fit_transform)\n",
    "test_enc = test.apply(enc.fit_transform)"
   ]
  },
  {
   "cell_type": "code",
   "execution_count": 269,
   "id": "5b06f7b8",
   "metadata": {},
   "outputs": [],
   "source": [
    "def using_smote(encoded_df, label, test_enc, c = 1):\n",
    "    y = label\n",
    "    features_enc = encoded_df.drop(y, axis = 'columns')\n",
    "    target = imbal_enc[y]\n",
    "    \n",
    "    smote =SMOTE(sampling_strategy='minority', random_state=3)\n",
    "    x_sn, y_sn = smote.fit_resample(features_enc, target)\n",
    "   \n",
    "    #splitting..\n",
    "    x_tr, x_te, y_tr, y_te = train_test_split(x_sn, y_sn, random_state = 0)\n",
    "    \n",
    "    #scaling\n",
    "    scaler = MinMaxScaler()\n",
    "    x_tr_scaled = scaler.fit_transform(x_tr)\n",
    "    x_test_scaled = scaler.transform(x_te)\n",
    "    \n",
    "    x_test_test = scaler.fit_transform(test_enc)\n",
    "    \n",
    "    #logistic_regression_model(x_tr_scaled, x_test_scaled, y_tr, y_te, x_test_test, C = c)\n",
    "    Log_reg_Manip_display(x_tr_scaled, x_test_scaled, y_tr, y_te)\n",
    "    cls_rprt_and_conf_matrix(x_tr_scaled, x_test_scaled, y_tr, y_te)\n",
    "    \n",
    "    \n",
    "    \n",
    "#     pred2 = log.predict(x_test_test)\n",
    "#     print(f1_score(y_te, pred2))"
   ]
  },
  {
   "cell_type": "code",
   "execution_count": null,
   "id": "85623ee2",
   "metadata": {},
   "outputs": [],
   "source": []
  },
  {
   "cell_type": "code",
   "execution_count": null,
   "id": "d637fa3b",
   "metadata": {},
   "outputs": [],
   "source": []
  },
  {
   "cell_type": "code",
   "execution_count": null,
   "id": "5edb1fea",
   "metadata": {},
   "outputs": [],
   "source": []
  },
  {
   "cell_type": "code",
   "execution_count": 270,
   "id": "dee37662",
   "metadata": {},
   "outputs": [
    {
     "data": {
      "image/png": "[encoded data removed]",
      "text/plain": [
       "<Figure size 432x288 with 1 Axes>"
      ]
     },
     "metadata": {
      "needs_background": "light"
     },
     "output_type": "display_data"
    },
    {
     "name": "stdout",
     "output_type": "stream",
     "text": [
      "confusion matrix: \n",
      "\n",
      " [[273  49]\n",
      " [ 54 289]] \n",
      "\n",
      "\n",
      "classification report: \n",
      "               precision    recall  f1-score   support\n",
      "\n",
      "           0       0.83      0.85      0.84       322\n",
      "           1       0.86      0.84      0.85       343\n",
      "\n",
      "    accuracy                           0.85       665\n",
      "   macro avg       0.84      0.85      0.85       665\n",
      "weighted avg       0.85      0.85      0.85       665\n",
      "\n"
     ]
    }
   ],
   "source": [
    "t = 'Response'\n",
    "using_smote(imbal_enc, t, test_enc, c = 1)"
   ]
  },
  {
   "cell_type": "code",
   "execution_count": null,
   "id": "649a2bfa",
   "metadata": {},
   "outputs": [],
   "source": []
  },
  {
   "cell_type": "code",
   "execution_count": null,
   "id": "55cb651f",
   "metadata": {},
   "outputs": [],
   "source": []
  },
  {
   "cell_type": "code",
   "execution_count": null,
   "id": "a443d03c",
   "metadata": {},
   "outputs": [],
   "source": []
  },
  {
   "cell_type": "code",
   "execution_count": null,
   "id": "7832f862",
   "metadata": {},
   "outputs": [],
   "source": []
  },
  {
   "cell_type": "code",
   "execution_count": null,
   "id": "32ac1c85",
   "metadata": {},
   "outputs": [],
   "source": []
  },
  {
   "cell_type": "code",
   "execution_count": 50,
   "id": "aeed05af",
   "metadata": {},
   "outputs": [],
   "source": [
    "#trying the other method of increasing the minority to have more data train the model"
   ]
  },
  {
   "cell_type": "code",
   "execution_count": 334,
   "id": "57654ff8",
   "metadata": {},
   "outputs": [],
   "source": [
    "def oversampling_d_minority_class(encoded_df, test_enc, label):\n",
    "    y = label\n",
    "    zeros = encoded_df[encoded_df[y] == 0] #the oversampled\n",
    "    ones = encoded_df[encoded_df[y] == 1] #the undersampled\n",
    "    \n",
    "    zeros_count, ones_count = encoded_df[y].value_counts()\n",
    "    \n",
    "    #undersampling the zeros to same values as 1's\n",
    "    zeros.sample(ones_count).shape #brought zeros to same values as 1's\n",
    "\n",
    "    ones_oversampled = ones.sample(zeros_count, replace = True, random_state = 9) \n",
    "    \n",
    "    #so, for oversampling, i have\n",
    "    print('now equally scaled as: ', zeros.shape , ones_oversampled.shape)\n",
    "    print('\\n')\n",
    "    #concatenating -- the new scaled dataframe:\n",
    "    dataframe_new = pd.concat([zeros, ones_oversampled], axis = 0)\n",
    "    \n",
    "    print('shape of new equally scaled new dataframe: \\n', dataframe_new.shape)\n",
    "    print('\\n')\n",
    "    y = label\n",
    "    features = dataframe_new.drop(y, axis = 1)\n",
    "    target = dataframe_new[y]\n",
    "    \n",
    "    #splitting\n",
    "    x_tr, x_test, y_tr, y_test = train_test_split(features, target, random_state=5)\n",
    "    \n",
    "    #scaling\n",
    "    scaler = MinMaxScaler()\n",
    "    x_tr_scaled = scaler.fit_transform(x_tr)\n",
    "    x_test_scaled = scaler.transform(x_test)\n",
    "    \n",
    "    x_test_test = scaler.fit_transform(test_enc)\n",
    "    \n",
    "    logistic_regression_model(x_tr_scaled, x_test_scaled, y_tr, y_test, x_test_test, C = 0.97)\n",
    "    Log_reg_Manip_display(x_tr_scaled, x_test_scaled, y_tr, y_test)\n",
    "    cls_rprt_and_conf_matrix(x_tr_scaled, x_test_scaled, y_tr, y_test)"
   ]
  },
  {
   "cell_type": "code",
   "execution_count": null,
   "id": "81ede446",
   "metadata": {},
   "outputs": [],
   "source": []
  },
  {
   "cell_type": "code",
   "execution_count": 335,
   "id": "42d2656d",
   "metadata": {},
   "outputs": [],
   "source": [
    "def modified2(encoded_df, test_enc, label):\n",
    "    y = label\n",
    "    zeros = encoded_df[encoded_df[y] == 0] #the oversampled\n",
    "    ones = encoded_df[encoded_df[y] == 1] #the undersampled\n",
    "    \n",
    "    zeros_count, ones_count = encoded_df[y].value_counts()\n",
    "    \n",
    "    #undersampling the zeros to same values as 1's\n",
    "    zeros.sample(ones_count).shape #brought zeros to same values as 1's\n",
    "    \n",
    "    rand = [1,2,3,4,5,6,7,8,9,10]\n",
    "    ones_oversampled = []\n",
    "    for i in rand:\n",
    "        r = ones.sample(zeros_count, replace = True, random_state = i)\n",
    "        ones_oversampled.append(r)\n",
    "    \n",
    "    #so, for oversampling, i have\n",
    "    for j in ones_oversampled:\n",
    "        print('now equally scaled as: ', zeros.shape , j.shape)\n",
    "        print('\\n')\n",
    "    #concatenating -- the new scaled dataframe:\n",
    "        dataframe_new = pd.concat([zeros, j], axis = 0)\n",
    "    \n",
    "        print('shape of new equally scaled new dataframe: \\n', dataframe_new.shape)\n",
    "        print('\\n')\n",
    "        y = label\n",
    "        features = dataframe_new.drop(y, axis = 1)\n",
    "        target = dataframe_new[y]\n",
    "    \n",
    "    #splitting\n",
    "        x_tr, x_test, y_tr, y_test = train_test_split(features, target, random_state=5)\n",
    "    \n",
    "    #scaling\n",
    "        scaler = MinMaxScaler()\n",
    "        x_tr_scaled = scaler.fit_transform(x_tr)\n",
    "        x_test_scaled = scaler.transform(x_test)\n",
    "    \n",
    "        x_test_test = scaler.fit_transform(test_enc)\n",
    "    \n",
    "        #logistic_regression_model(x_tr_scaled, x_test_scaled, y_tr, y_test, x_test_test, C = 0.5)\n",
    "        Log_reg_Manip_display(x_tr_scaled, x_test_scaled, y_tr, y_test)\n",
    "        #cls_rprt_and_conf_matrix(x_tr_scaled, x_test_scaled, y_tr, y_test)"
   ]
  },
  {
   "cell_type": "code",
   "execution_count": null,
   "id": "6d65c1b4",
   "metadata": {},
   "outputs": [],
   "source": []
  },
  {
   "cell_type": "code",
   "execution_count": 336,
   "id": "ca293a03",
   "metadata": {
    "scrolled": false
   },
   "outputs": [],
   "source": [
    "#modified2(imbal_enc, test_enc, t)"
   ]
  },
  {
   "cell_type": "code",
   "execution_count": null,
   "id": "0de93d28",
   "metadata": {},
   "outputs": [],
   "source": []
  },
  {
   "cell_type": "code",
   "execution_count": null,
   "id": "b37739e0",
   "metadata": {},
   "outputs": [],
   "source": []
  },
  {
   "cell_type": "code",
   "execution_count": 339,
   "id": "293a55cc",
   "metadata": {
    "scrolled": false
   },
   "outputs": [
    {
     "name": "stdout",
     "output_type": "stream",
     "text": [
      "now equally scaled as:  (1329, 27) (1329, 27)\n",
      "\n",
      "\n",
      "shape of new equally scaled new dataframe: \n",
      " (2658, 27)\n",
      "\n",
      "\n"
     ]
    },
    {
     "name": "stderr",
     "output_type": "stream",
     "text": [
      "C:\\Users\\ilesanmi\\anaconda3\\lib\\site-packages\\seaborn\\_decorators.py:36: FutureWarning: Pass the following variable as a keyword arg: x. From version 0.12, the only valid positional argument will be `data`, and passing other arguments without an explicit keyword will result in an error or misinterpretation.\n",
      "  warnings.warn(\n"
     ]
    },
    {
     "name": "stdout",
     "output_type": "stream",
     "text": [
      "training accuracy:  0.8324134470647265\n",
      "testing accuracy:  0.8330827067669173\n",
      "f1 score of my sample 0.8271221532091098\n",
      " f1 score of my predi 0.8374816983894583\n",
      "wanna save as a doc? y\n",
      "enter doc name: r=5,c=.5\n",
      "/n saved\n"
     ]
    },
    {
     "data": {
      "image/png": "[encoded data removed]",
      "text/plain": [
       "<Figure size 432x288 with 1 Axes>"
      ]
     },
     "metadata": {
      "needs_background": "light"
     },
     "output_type": "display_data"
    },
    {
     "name": "stdout",
     "output_type": "stream",
     "text": [
      "confusion matrix: \n",
      "\n",
      " [[268  46]\n",
      " [ 65 286]] \n",
      "\n",
      "\n",
      "classification report: \n",
      "               precision    recall  f1-score   support\n",
      "\n",
      "           0       0.80      0.85      0.83       314\n",
      "           1       0.86      0.81      0.84       351\n",
      "\n",
      "    accuracy                           0.83       665\n",
      "   macro avg       0.83      0.83      0.83       665\n",
      "weighted avg       0.83      0.83      0.83       665\n",
      "\n"
     ]
    }
   ],
   "source": [
    "oversampling_d_minority_class(imbal_enc, test_enc, t)"
   ]
  },
  {
   "cell_type": "code",
   "execution_count": null,
   "id": "112d8a64",
   "metadata": {},
   "outputs": [],
   "source": []
  },
  {
   "cell_type": "code",
   "execution_count": null,
   "id": "c7184268",
   "metadata": {},
   "outputs": [],
   "source": []
  },
  {
   "cell_type": "code",
   "execution_count": null,
   "id": "f68d37dc",
   "metadata": {},
   "outputs": [],
   "source": []
  },
  {
   "cell_type": "code",
   "execution_count": 306,
   "id": "16b3f09a",
   "metadata": {},
   "outputs": [],
   "source": [
    "#function receives encoded dataframe and then the needed label\n",
    "\n",
    "def udersampling_d_majority_class(encoded_df, label, test_enc):\n",
    "    y = label\n",
    "    zeros = encoded_df[encoded_df[y] == 0] #the oversampled\n",
    "    ones = encoded_df[encoded_df[y] == 1] #the undersampled\n",
    "    \n",
    "    zeros_count, ones_count = encoded_df[y].value_counts()\n",
    "    \n",
    "    #undersampling the zeros to same values as 1's\n",
    "    zero_datas = zeros.sample(ones_count, random_state = 11) #brought zeros to same values as 1's\n",
    "    #OBSERVATION: AT DIFFERENT VALUE OF THE RANDOM_STATE, I GET DIFFERENT..\n",
    "    #...RESULTS\n",
    "    \n",
    "    \n",
    "    #so, for underscaling, i have\n",
    "    print('now equally scaled as: ', zero_datas.shape , ones.shape)\n",
    "    print('\\n')\n",
    "    #concatenating -- the new scaled dataframe:\n",
    "    dataframe_new = pd.concat([zero_datas, ones], axis = 0)\n",
    "    \n",
    "    print('shape of new equally scaled new dataframe: \\n', dataframe_new.shape)\n",
    "    print('\\n')\n",
    "    \n",
    "    #dataframe_new.head()\n",
    "    \n",
    "    y = label\n",
    "    features = dataframe_new.drop(y, axis = 1)\n",
    "    target = dataframe_new[y]\n",
    "    \n",
    "    #splitting\n",
    "    x_tr, x_test, y_tr, y_test = train_test_split(features, target, random_state=0)\n",
    "    \n",
    "    #scaling\n",
    "    scaler = MinMaxScaler()\n",
    "    x_tr_scaled = scaler.fit_transform(x_tr)\n",
    "    x_test_scaled = scaler.transform(x_test)\n",
    "    \n",
    "    x_test_test = scaler.fit_transform(test_enc)\n",
    "\n",
    "    logistic_regression_model(x_tr_scaled, x_test_scaled, y_tr, y_test, x_test_test, C=0.08) #i can input C value too\n",
    "    Log_reg_Manip_display(x_tr_scaled, x_test_scaled, y_tr, y_test)\n",
    "    cls_rprt_and_conf_matrix(x_tr_scaled, x_test_scaled, y_tr, y_test)\n",
    "\n",
    "    "
   ]
  },
  {
   "cell_type": "code",
   "execution_count": null,
   "id": "d3554144",
   "metadata": {},
   "outputs": [],
   "source": []
  },
  {
   "cell_type": "code",
   "execution_count": 307,
   "id": "7573184f",
   "metadata": {},
   "outputs": [],
   "source": [
    "#function receives encoded dataframe and then the needed label\n",
    "\n",
    "def modified(encoded_df, label, test_enc):\n",
    "    y = label\n",
    "    zeros = encoded_df[encoded_df[y] == 0] #the oversampled\n",
    "    ones = encoded_df[encoded_df[y] == 1] #the undersampled\n",
    "    \n",
    "    zeros_count, ones_count = encoded_df[y].value_counts()\n",
    "    \n",
    "    #undersampling the zeros to same values as 1's\n",
    "    rand = [1,2,3,4,5,6,7,8,9,10,11,12,13]\n",
    "    zero_datas = []\n",
    "    for i in rand:\n",
    "        r = zeros.sample(ones_count, random_state = i) #brought zeros to same values as 1's\n",
    "        zero_datas.append(r)\n",
    "    #OBSERVATION: AT DIFFERENT VALUE OF THE RANDOM_STATE, I GET DIFFERENT..\n",
    "    #...RESULTS\n",
    "    \n",
    "    for j in zero_datas:\n",
    "        \n",
    "    #so, for underscaling, i have\n",
    "        print('now equally scaled as: ', j.shape , ones.shape)\n",
    "        print('\\n')\n",
    "    #concatenating -- the new scaled dataframe:\n",
    "        dataframe_new = pd.concat([j, ones], axis = 0)\n",
    "    \n",
    "        print('shape of new equally scaled new dataframe: \\n', dataframe_new.shape)\n",
    "        print('\\n')\n",
    "    \n",
    "    #dataframe_new.head()\n",
    "    \n",
    "        y = label\n",
    "        features = dataframe_new.drop(y, axis = 1)\n",
    "        target = dataframe_new[y]\n",
    "    \n",
    "    #splitting\n",
    "        x_tr, x_test, y_tr, y_test = train_test_split(features, target, random_state=0)\n",
    "    \n",
    "    #scaling\n",
    "        scaler = MinMaxScaler()\n",
    "        x_tr_scaled = scaler.fit_transform(x_tr)\n",
    "        x_test_scaled = scaler.transform(x_test)\n",
    "    \n",
    "        x_test_test = scaler.fit_transform(test_enc)\n",
    "\n",
    "    #Log_reg_accu_display(x_tr_scaled, x_test_scaled, y_tr, y_test)\n",
    "        #logistic_regression_model(x_tr_scaled, x_test_scaled, y_tr, y_test, x_test_test, C=0.82) #i can input C value too\n",
    "        Log_reg_Manip_display(x_tr_scaled, x_test_scaled, y_tr, y_test)\n",
    "        #cls_rprt_and_conf_matrix(x_tr_scaled, x_test_scaled, y_tr, y_test)\n",
    "\n",
    "    "
   ]
  },
  {
   "cell_type": "code",
   "execution_count": null,
   "id": "31bb9c4f",
   "metadata": {},
   "outputs": [],
   "source": []
  },
  {
   "cell_type": "code",
   "execution_count": 308,
   "id": "47cd4368",
   "metadata": {
    "scrolled": false
   },
   "outputs": [],
   "source": [
    "#modified(imbal_enc, t, test_enc)"
   ]
  },
  {
   "cell_type": "code",
   "execution_count": null,
   "id": "3eef5a4e",
   "metadata": {},
   "outputs": [],
   "source": []
  },
  {
   "cell_type": "code",
   "execution_count": 318,
   "id": "d09e90a4",
   "metadata": {},
   "outputs": [
    {
     "name": "stdout",
     "output_type": "stream",
     "text": [
      "now equally scaled as:  (239, 27) (239, 27)\n",
      "\n",
      "\n",
      "shape of new equally scaled new dataframe: \n",
      " (478, 27)\n",
      "\n",
      "\n",
      "training accuracy:  0.776536312849162\n",
      "testing accuracy:  0.7916666666666666\n",
      "f1 score of my sample 0.7604790419161677\n",
      " f1 score of my predi 0.7826086956521738\n"
     ]
    },
    {
     "name": "stderr",
     "output_type": "stream",
     "text": [
      "C:\\Users\\ilesanmi\\anaconda3\\lib\\site-packages\\seaborn\\_decorators.py:36: FutureWarning: Pass the following variable as a keyword arg: x. From version 0.12, the only valid positional argument will be `data`, and passing other arguments without an explicit keyword will result in an error or misinterpretation.\n",
      "  warnings.warn(\n"
     ]
    },
    {
     "name": "stdout",
     "output_type": "stream",
     "text": [
      "wanna save as a doc? y\n",
      "enter doc name: at r = 1, c = 0.8\n",
      "/n saved\n"
     ]
    },
    {
     "data": {
      "image/png": "[encoded data removed]",
      "text/plain": [
       "<Figure size 432x288 with 1 Axes>"
      ]
     },
     "metadata": {
      "needs_background": "light"
     },
     "output_type": "display_data"
    },
    {
     "name": "stdout",
     "output_type": "stream",
     "text": [
      "confusion matrix: \n",
      "\n",
      " [[51  6]\n",
      " [13 50]] \n",
      "\n",
      "\n",
      "classification report: \n",
      "               precision    recall  f1-score   support\n",
      "\n",
      "           0       0.80      0.89      0.84        57\n",
      "           1       0.89      0.79      0.84        63\n",
      "\n",
      "    accuracy                           0.84       120\n",
      "   macro avg       0.84      0.84      0.84       120\n",
      "weighted avg       0.85      0.84      0.84       120\n",
      "\n"
     ]
    }
   ],
   "source": [
    "udersampling_d_majority_class(imbal_enc, t, test_enc)"
   ]
  },
  {
   "cell_type": "code",
   "execution_count": 294,
   "id": "aab8606c",
   "metadata": {},
   "outputs": [],
   "source": [
    "#got my 11th at random_state = 2\n",
    "#where accuracy == 0.85\n",
    "\n",
    "#got my 15th at random state = 8, c = 0.1"
   ]
  },
  {
   "cell_type": "code",
   "execution_count": null,
   "id": "3fe58a4b",
   "metadata": {},
   "outputs": [],
   "source": []
  }
 ],
 "metadata": {
  "kernelspec": {
   "display_name": "Python 3",
   "language": "python",
   "name": "python3"
  },
  "language_info": {
   "codemirror_mode": {
    "name": "ipython",
    "version": 3
   },
   "file_extension": ".py",
   "mimetype": "text/x-python",
   "name": "python",
   "nbconvert_exporter": "python",
   "pygments_lexer": "ipython3",
   "version": "3.8.8"
  }
 },
 "nbformat": 4,
 "nbformat_minor": 5
}
